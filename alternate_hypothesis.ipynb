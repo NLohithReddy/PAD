{
  "nbformat": 4,
  "nbformat_minor": 0,
  "metadata": {
    "colab": {
      "private_outputs": true,
      "provenance": [],
      "authorship_tag": "ABX9TyOXgPLh5JxlbfVGnFOZz1T0",
      "include_colab_link": true
    },
    "kernelspec": {
      "name": "python3",
      "display_name": "Python 3"
    },
    "language_info": {
      "name": "python"
    }
  },
  "cells": [
    {
      "cell_type": "markdown",
      "metadata": {
        "id": "view-in-github",
        "colab_type": "text"
      },
      "source": [
        "<a href=\"https://colab.research.google.com/github/NLohithReddy/PAD-exp-1/blob/main/alternate_hypothesis.ipynb\" target=\"_parent\"><img src=\"https://colab.research.google.com/assets/colab-badge.svg\" alt=\"Open In Colab\"/></a>"
      ]
    },
    {
      "cell_type": "code",
      "execution_count": null,
      "metadata": {
        "id": "E4fqwHSA7__T"
      },
      "outputs": [],
      "source": [
        "import pandas as pd\n",
        "from scipy.stats import ttest_1samp\n",
        "\n",
        "file_path = 'test.csv'\n",
        "data = pd.read_csv(file_path)\n",
        "marks_data = data['marks']\n",
        "expected_mean = 70\n",
        "alternate_hypothesis = \"The mean of the marks is not equal to the expected mean (70).\"\n",
        "\n",
        "t_statistic, p_value = ttest_1samp(marks_data, expected_mean)\n",
        "alpha = 0.05\n",
        "\n",
        "if p_value < alpha:\n",
        "    print(\"Null hypothesis rejected. There is significant evidence to support the alternate hypothesis:\")\n",
        "    print(alternate_hypothesis)\n",
        "    anomaly_threshold = 2 * marks_data.std()\n",
        "    anomalies = marks_data[abs(marks_data - expected_mean) > anomaly_threshold]\n",
        "    print(\"Anomalies:\")\n",
        "    print(anomalies)\n",
        "    data['is_anomaly'] = abs(data['marks'] - expected_mean) > anomaly_threshold\n",
        "    print(\"\\nData with Anomalies:\")\n",
        "    print(data)\n",
        "else:\n",
        "    print(\"No significant evidence to reject the null hypothesis.\")"
      ]
    }
  ]
}
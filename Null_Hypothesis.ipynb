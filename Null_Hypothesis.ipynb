{
  "nbformat": 4,
  "nbformat_minor": 0,
  "metadata": {
    "colab": {
      "private_outputs": true,
      "provenance": [],
      "authorship_tag": "ABX9TyNeCdNV0qgoSWqyEyw6h7sZ",
      "include_colab_link": true
    },
    "kernelspec": {
      "name": "python3",
      "display_name": "Python 3"
    },
    "language_info": {
      "name": "python"
    }
  },
  "cells": [
    {
      "cell_type": "markdown",
      "metadata": {
        "id": "view-in-github",
        "colab_type": "text"
      },
      "source": [
        "<a href=\"https://colab.research.google.com/github/NLohithReddy/PAD-exp-1/blob/main/Null_Hypothesis.ipynb\" target=\"_parent\"><img src=\"https://colab.research.google.com/assets/colab-badge.svg\" alt=\"Open In Colab\"/></a>"
      ]
    },
    {
      "cell_type": "code",
      "execution_count": null,
      "metadata": {
        "id": "7i5Ats--cA5K"
      },
      "outputs": [],
      "source": [
        "import pandas as pd\n",
        "from scipy.stats import ttest_1samp\n",
        "file_path = 'test.csv'\n",
        "data = pd.read_csv(file_path)\n",
        "marks_data = data['marks']\n",
        "expected_mean = 70\n",
        "t_statistic, p_value = ttest_1samp(marks_data, expected_mean)\n",
        "alpha = 0.05\n",
        "if p_value < alpha:\n",
        "    print(\"Null hypothesis rejected, The mean significantly deviates from the expected value.\")\n",
        "    anomaly_threshold = 2 * marks_data.std()\n",
        "    anomalies = marks_data[abs(marks_data - expected_mean) > anomaly_threshold]\n",
        "    print(\"Anomalies:\")\n",
        "    print(anomalies)\n",
        "    data['is_anomaly'] = abs(data['marks'] - expected_mean) > anomaly_threshold\n",
        "    print(\"\\nData with Anomalies:\")\n",
        "    print(data)\n",
        "\n",
        "else:\n",
        "    print(\"No significant evidence to reject the null hypothesis.\")\n",
        "\n"
      ]
    }
  ]
}